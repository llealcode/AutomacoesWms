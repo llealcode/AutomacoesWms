{
 "cells": [
  {
   "cell_type": "code",
   "execution_count": 2,
   "id": "edf1adca",
   "metadata": {},
   "outputs": [],
   "source": [
    "from time import sleep\n",
    "from selenium import webdriver\n",
    "from selenium.webdriver.common.by import By\n",
    "from selenium.webdriver.common.keys import Keys\n",
    "from selenium.webdriver.support.ui import Select\n",
    "from selenium.webdriver.support.ui import WebDriverWait\n",
    "from selenium.webdriver.support import expected_conditions as EC\n",
    "\n",
    "\n",
    "\n",
    "# Variáveis dinâmico___________________________\n",
    "link = 'http://172.31.108.194/Producao/WMSWeb/ol-1/MovCadastro'\n",
    "entidade = '724459'\n",
    "login = 'rafael.higino'\n",
    "senha = 'C2578992025***'\n",
    "\n",
    "\n",
    "# Criando navegador_____________________________\n",
    "driver = webdriver.Chrome()\n",
    "driver.maximize_window()\n",
    "driver.get(link)\n",
    "driver.execute_script(\"document.body.style.zoom='80%'\")\n",
    "\n",
    "# Interagindo com os elementos do FrontEnd____________________\n",
    "driver.find_element(By.ID, 'User').send_keys(login)\n",
    "driver.find_element(By.ID, 'Password').send_keys(senha)\n",
    "driver.find_element(By.XPATH, '//*[@id=\"loginForm\"]/form/div[4]/input').click()\n",
    "driver.execute_script(\"document.body.style.zoom='80%'\")\n",
    "\n",
    "# Interagindo com os elementos do BackEnd__________________\n",
    "sleep(0.5)\n",
    "id_idetificacao = driver.find_element(By.ID, 'autocomplete-entidade').send_keys(entidade + Keys.DOWN)\n",
    "sleep(0.5)\n",
    "# id_idetificacao.send_keys(keys.DOWN)\n",
    "\n",
    "# operacao = Select(driver.find_element(By.ID, 'movimentacao'))\n",
    "# sleep(0.5)\n",
    "# operacao.select_by_visible_text('Entrada')\n",
    "# sleep(0.5)\n",
    "# sub_operacao = Select(driver.find_element(By.ID, 'suboperacao'))\n",
    "# sleep(0.5)\n",
    "# sub_operacao.select_by_visible_text('RECEBIMENTO EU')\n",
    "# sleep(0.5)\n",
    "# driver.find_element(By.ID, 'dataPedido').click()\n",
    "# sleep(0.5)\n",
    "# driver.find_element(By.XPATH, '/html/body/div[14]/div[1]/table/tfoot/tr[1]/th').click()"
   ]
  },
  {
   "cell_type": "code",
   "execution_count": null,
   "id": "36782eee",
   "metadata": {},
   "outputs": [],
   "source": [
    "# sleep(1)\n",
    "\n",
    "# sub_operacao = Select(driver.find_element(By.ID, 'suboperacao'))\n",
    "# sleep(0.5)\n",
    "# sub_operacao.select_by_visible_text('RECEBIMENTO EU')"
   ]
  },
  {
   "cell_type": "code",
   "execution_count": null,
   "id": "a2ead50a",
   "metadata": {},
   "outputs": [],
   "source": []
  }
 ],
 "metadata": {
  "kernelspec": {
   "display_name": "venv",
   "language": "python",
   "name": "python3"
  },
  "language_info": {
   "codemirror_mode": {
    "name": "ipython",
    "version": 3
   },
   "file_extension": ".py",
   "mimetype": "text/x-python",
   "name": "python",
   "nbconvert_exporter": "python",
   "pygments_lexer": "ipython3",
   "version": "3.12.1"
  }
 },
 "nbformat": 4,
 "nbformat_minor": 5
}
